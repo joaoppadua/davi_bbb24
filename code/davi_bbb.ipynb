{
 "cells": [
  {
   "cell_type": "code",
   "execution_count": 16,
   "metadata": {},
   "outputs": [],
   "source": [
    "from gailbot import GailBot\n",
    "import os\n",
    "import whisper\n",
    "from pprint import pprint"
   ]
  },
  {
   "cell_type": "code",
   "execution_count": 2,
   "metadata": {},
   "outputs": [],
   "source": [
    "gb = GailBot()"
   ]
  },
  {
   "cell_type": "code",
   "execution_count": 3,
   "metadata": {},
   "outputs": [],
   "source": [
    "PATH = os.path.join('..', 'data')\n",
    "FILENAME = 'davi_psiu.wav'\n",
    "#FILENAME = 'davi psiu video.mp4'\n",
    "file_path = os.path.join(PATH, FILENAME)"
   ]
  },
  {
   "cell_type": "code",
   "execution_count": 4,
   "metadata": {},
   "outputs": [
    {
     "name": "stdout",
     "output_type": "stream",
     "text": [
      "file format is wav\n"
     ]
    },
    {
     "name": "stderr",
     "output_type": "stream",
     "text": [
      "ERROR:transcriptionPipeline:failed to convert davi_psiu.wav\n",
      "ERROR:transcriptionPipeline:failed to convert davi_psiu.wav\n",
      "ERROR:transcriptionPipeline:[Errno 2] No such file or directory: 'davi_psiu.wav'\n",
      "Traceback (most recent call last):\n",
      "  File \"/Users/joaopedropadua/anaconda3/envs/davi/lib/python3.11/site-packages/gailbot/transcriptionPipeline/pipeline.py\", line 64, in convert\n",
      "    new_payload = s.convert()\n",
      "                  ^^^^^^^^^^^\n",
      "  File \"/Users/joaopedropadua/anaconda3/envs/davi/lib/python3.11/site-packages/gailbot/sourceManager/sourceObject.py\", line 86, in convert\n",
      "    return self.converter.convert(self.source_path, self.output_dir, self.profile_obj, self.watchers)\n",
      "           ^^^^^^^^^^^^^^^^^^^^^^^^^^^^^^^^^^^^^^^^^^^^^^^^^^^^^^^^^^^^^^^^^^^^^^^^^^^^^^^^^^^^^^^^^^\n",
      "  File \"/Users/joaopedropadua/anaconda3/envs/davi/lib/python3.11/site-packages/gailbot/payload/payloadConverter/mediaConverter.py\", line 55, in convert\n",
      "    audio_path: List[str] = ConvertFun.convert_to_wav(path, temp_path.data_copy)\n",
      "                            ^^^^^^^^^^^^^^^^^^^^^^^^^^^^^^^^^^^^^^^^^^^^^^^^^^^^\n",
      "  File \"/Users/joaopedropadua/anaconda3/envs/davi/lib/python3.11/site-packages/gailbot/payload/payloadConverter/converterFun.py\", line 127, in convert_to_wav\n",
      "    return ConvertFun.convert_funs[file_format](path, tgt_parent_directory)\n",
      "           ^^^^^^^^^^^^^^^^^^^^^^^^^^^^^^^^^^^^^^^^^^^^^^^^^^^^^^^^^^^^^^^^\n",
      "  File \"/Users/joaopedropadua/anaconda3/envs/davi/lib/python3.11/site-packages/gailbot/payload/payloadConverter/converterFun.py\", line 89, in _convert_wav\n",
      "    read(path)\n",
      "  File \"/Users/joaopedropadua/anaconda3/envs/davi/lib/python3.11/site-packages/scipy/io/wavfile.py\", line 647, in read\n",
      "    fid = open(filename, 'rb')\n",
      "          ^^^^^^^^^^^^^^^^^^^^\n",
      "FileNotFoundError: [Errno 2] No such file or directory: 'davi_psiu.wav'\n",
      "ERROR:transcriptionPipeline:[Errno 2] No such file or directory: 'davi_psiu.wav'\n",
      "Traceback (most recent call last):\n",
      "  File \"/Users/joaopedropadua/anaconda3/envs/davi/lib/python3.11/site-packages/gailbot/transcriptionPipeline/pipeline.py\", line 64, in convert\n",
      "    new_payload = s.convert()\n",
      "                  ^^^^^^^^^^^\n",
      "  File \"/Users/joaopedropadua/anaconda3/envs/davi/lib/python3.11/site-packages/gailbot/sourceManager/sourceObject.py\", line 86, in convert\n",
      "    return self.converter.convert(self.source_path, self.output_dir, self.profile_obj, self.watchers)\n",
      "           ^^^^^^^^^^^^^^^^^^^^^^^^^^^^^^^^^^^^^^^^^^^^^^^^^^^^^^^^^^^^^^^^^^^^^^^^^^^^^^^^^^^^^^^^^^\n",
      "  File \"/Users/joaopedropadua/anaconda3/envs/davi/lib/python3.11/site-packages/gailbot/payload/payloadConverter/mediaConverter.py\", line 55, in convert\n",
      "    audio_path: List[str] = ConvertFun.convert_to_wav(path, temp_path.data_copy)\n",
      "                            ^^^^^^^^^^^^^^^^^^^^^^^^^^^^^^^^^^^^^^^^^^^^^^^^^^^^\n",
      "  File \"/Users/joaopedropadua/anaconda3/envs/davi/lib/python3.11/site-packages/gailbot/payload/payloadConverter/converterFun.py\", line 127, in convert_to_wav\n",
      "    return ConvertFun.convert_funs[file_format](path, tgt_parent_directory)\n",
      "           ^^^^^^^^^^^^^^^^^^^^^^^^^^^^^^^^^^^^^^^^^^^^^^^^^^^^^^^^^^^^^^^^\n",
      "  File \"/Users/joaopedropadua/anaconda3/envs/davi/lib/python3.11/site-packages/gailbot/payload/payloadConverter/converterFun.py\", line 89, in _convert_wav\n",
      "    read(path)\n",
      "  File \"/Users/joaopedropadua/anaconda3/envs/davi/lib/python3.11/site-packages/scipy/io/wavfile.py\", line 647, in read\n",
      "    fid = open(filename, 'rb')\n",
      "          ^^^^^^^^^^^^^^^^^^^^\n",
      "FileNotFoundError: [Errno 2] No such file or directory: 'davi_psiu.wav'\n"
     ]
    },
    {
     "data": {
      "text/plain": [
       "TranscriptionResult(success_output=[], failure=[], invalid=['davi_psiu'])"
      ]
     },
     "execution_count": 4,
     "metadata": {},
     "output_type": "execute_result"
    }
   ],
   "source": [
    "gb.add_source(\n",
    "    source_path=FILENAME,\n",
    "    output_dir=PATH)\n",
    "gb.transcribe()"
   ]
  },
  {
   "cell_type": "code",
   "execution_count": 5,
   "metadata": {},
   "outputs": [],
   "source": [
    "model=whisper.load_model('medium')"
   ]
  },
  {
   "cell_type": "code",
   "execution_count": 6,
   "metadata": {},
   "outputs": [],
   "source": [
    "result = model.transcribe(file_path)"
   ]
  },
  {
   "cell_type": "code",
   "execution_count": 10,
   "metadata": {},
   "outputs": [
    {
     "data": {
      "text/plain": [
       "dict_keys(['text', 'segments', 'language'])"
      ]
     },
     "execution_count": 10,
     "metadata": {},
     "output_type": "execute_result"
    }
   ],
   "source": [
    "result.keys()"
   ]
  },
  {
   "cell_type": "code",
   "execution_count": 18,
   "metadata": {},
   "outputs": [
    {
     "data": {
      "text/plain": [
       "{'text': ' não pode fazer com數aktam você problema foi comigo O que eu peço pra você não fazer? Sobre o que eu tava sentindo, assim. Você resolveu o meu problema por mim? Eu senti que ela foi uma pessoa que queria me dar uma oportunidade pra me mostrar que tinha. Você não tem que sentir nada que tenha a ver comigo. Se eu não falei... Seu não! Seu não! Seu não! Eu tô falando, cara! Respeita! Respeita! A mulher, respeita.',\n",
       " 'segments': [{'id': 0,\n",
       "   'seek': 0,\n",
       "   'start': 0.0,\n",
       "   'end': 3.2800000000000002,\n",
       "   'text': ' não pode fazer com數aktam',\n",
       "   'tokens': [50364, 2431, 7468, 6736, 395, 30622, 5886, 335, 50528],\n",
       "   'temperature': 1.0,\n",
       "   'avg_logprob': -3.864606969496783,\n",
       "   'compression_ratio': 0.8983050847457628,\n",
       "   'no_speech_prob': 0.4944595992565155},\n",
       "  {'id': 1,\n",
       "   'seek': 0,\n",
       "   'start': 3.2800000000000002,\n",
       "   'end': 28.12,\n",
       "   'text': ' você problema foi comigo',\n",
       "   'tokens': [50528, 2723, 12395, 6901, 35696, 51770],\n",
       "   'temperature': 1.0,\n",
       "   'avg_logprob': -3.864606969496783,\n",
       "   'compression_ratio': 0.8983050847457628,\n",
       "   'no_speech_prob': 0.4944595992565155},\n",
       "  {'id': 2,\n",
       "   'seek': 2812,\n",
       "   'start': 28.12,\n",
       "   'end': 30.0,\n",
       "   'text': ' O que eu peço pra você não fazer?',\n",
       "   'tokens': [50364,\n",
       "    422,\n",
       "    631,\n",
       "    2228,\n",
       "    520,\n",
       "    8560,\n",
       "    3206,\n",
       "    2723,\n",
       "    2431,\n",
       "    6736,\n",
       "    30,\n",
       "    50458],\n",
       "   'temperature': 0.0,\n",
       "   'avg_logprob': -0.40330527080752987,\n",
       "   'compression_ratio': 1.6533333333333333,\n",
       "   'no_speech_prob': 0.10099760442972183},\n",
       "  {'id': 3,\n",
       "   'seek': 2812,\n",
       "   'start': 30.04,\n",
       "   'end': 31.84,\n",
       "   'text': ' Sobre o que eu tava sentindo, assim.',\n",
       "   'tokens': [50460,\n",
       "    407,\n",
       "    2672,\n",
       "    277,\n",
       "    631,\n",
       "    2228,\n",
       "    26777,\n",
       "    2279,\n",
       "    10306,\n",
       "    11,\n",
       "    8249,\n",
       "    13,\n",
       "    50550],\n",
       "   'temperature': 0.0,\n",
       "   'avg_logprob': -0.40330527080752987,\n",
       "   'compression_ratio': 1.6533333333333333,\n",
       "   'no_speech_prob': 0.10099760442972183},\n",
       "  {'id': 4,\n",
       "   'seek': 2812,\n",
       "   'start': 31.880000000000003,\n",
       "   'end': 34.38,\n",
       "   'text': ' Você resolveu o meu problema por mim?',\n",
       "   'tokens': [50552,\n",
       "    9781,\n",
       "    14151,\n",
       "    84,\n",
       "    277,\n",
       "    9230,\n",
       "    12395,\n",
       "    1515,\n",
       "    12247,\n",
       "    30,\n",
       "    50677],\n",
       "   'temperature': 0.0,\n",
       "   'avg_logprob': -0.40330527080752987,\n",
       "   'compression_ratio': 1.6533333333333333,\n",
       "   'no_speech_prob': 0.10099760442972183},\n",
       "  {'id': 5,\n",
       "   'seek': 2812,\n",
       "   'start': 34.42,\n",
       "   'end': 37.0,\n",
       "   'text': ' Eu senti que ela foi uma pessoa que queria me dar uma oportunidade',\n",
       "   'tokens': [50679,\n",
       "    2186,\n",
       "    2279,\n",
       "    72,\n",
       "    631,\n",
       "    7175,\n",
       "    6901,\n",
       "    2772,\n",
       "    16366,\n",
       "    631,\n",
       "    27955,\n",
       "    385,\n",
       "    4072,\n",
       "    2772,\n",
       "    24237,\n",
       "    6014,\n",
       "    50808],\n",
       "   'temperature': 0.0,\n",
       "   'avg_logprob': -0.40330527080752987,\n",
       "   'compression_ratio': 1.6533333333333333,\n",
       "   'no_speech_prob': 0.10099760442972183},\n",
       "  {'id': 6,\n",
       "   'seek': 2812,\n",
       "   'start': 37.04,\n",
       "   'end': 38.8,\n",
       "   'text': ' pra me mostrar que tinha.',\n",
       "   'tokens': [50810, 3206, 385, 21487, 631, 13574, 13, 50898],\n",
       "   'temperature': 0.0,\n",
       "   'avg_logprob': -0.40330527080752987,\n",
       "   'compression_ratio': 1.6533333333333333,\n",
       "   'no_speech_prob': 0.10099760442972183},\n",
       "  {'id': 7,\n",
       "   'seek': 2812,\n",
       "   'start': 38.84,\n",
       "   'end': 41.04,\n",
       "   'text': ' Você não tem que sentir nada que tenha a ver comigo.',\n",
       "   'tokens': [50900,\n",
       "    9781,\n",
       "    2431,\n",
       "    1383,\n",
       "    631,\n",
       "    23963,\n",
       "    8096,\n",
       "    631,\n",
       "    28834,\n",
       "    257,\n",
       "    1306,\n",
       "    35696,\n",
       "    13,\n",
       "    51010],\n",
       "   'temperature': 0.0,\n",
       "   'avg_logprob': -0.40330527080752987,\n",
       "   'compression_ratio': 1.6533333333333333,\n",
       "   'no_speech_prob': 0.10099760442972183},\n",
       "  {'id': 8,\n",
       "   'seek': 2812,\n",
       "   'start': 41.08,\n",
       "   'end': 43.0,\n",
       "   'text': ' Se eu não falei... Seu não!',\n",
       "   'tokens': [51012, 1100, 2228, 2431, 29800, 485, 1100, 84, 2431, 0, 51108],\n",
       "   'temperature': 0.0,\n",
       "   'avg_logprob': -0.40330527080752987,\n",
       "   'compression_ratio': 1.6533333333333333,\n",
       "   'no_speech_prob': 0.10099760442972183},\n",
       "  {'id': 9,\n",
       "   'seek': 2812,\n",
       "   'start': 43.04,\n",
       "   'end': 44.84,\n",
       "   'text': ' Seu não!',\n",
       "   'tokens': [51110, 1100, 84, 2431, 0, 51200],\n",
       "   'temperature': 0.0,\n",
       "   'avg_logprob': -0.40330527080752987,\n",
       "   'compression_ratio': 1.6533333333333333,\n",
       "   'no_speech_prob': 0.10099760442972183},\n",
       "  {'id': 10,\n",
       "   'seek': 2812,\n",
       "   'start': 44.88,\n",
       "   'end': 47.64,\n",
       "   'text': ' Seu não! Eu tô falando, cara! Respeita!',\n",
       "   'tokens': [51202,\n",
       "    1100,\n",
       "    84,\n",
       "    2431,\n",
       "    0,\n",
       "    2186,\n",
       "    20683,\n",
       "    21236,\n",
       "    11,\n",
       "    10962,\n",
       "    0,\n",
       "    5015,\n",
       "    494,\n",
       "    2786,\n",
       "    0,\n",
       "    51340],\n",
       "   'temperature': 0.0,\n",
       "   'avg_logprob': -0.40330527080752987,\n",
       "   'compression_ratio': 1.6533333333333333,\n",
       "   'no_speech_prob': 0.10099760442972183},\n",
       "  {'id': 11,\n",
       "   'seek': 2812,\n",
       "   'start': 47.68,\n",
       "   'end': 48.84,\n",
       "   'text': ' Respeita!',\n",
       "   'tokens': [51342, 5015, 494, 2786, 0, 51400],\n",
       "   'temperature': 0.0,\n",
       "   'avg_logprob': -0.40330527080752987,\n",
       "   'compression_ratio': 1.6533333333333333,\n",
       "   'no_speech_prob': 0.10099760442972183},\n",
       "  {'id': 12,\n",
       "   'seek': 2812,\n",
       "   'start': 48.88,\n",
       "   'end': 49.760000000000005,\n",
       "   'text': ' A mulher, respeita.',\n",
       "   'tokens': [51402, 316, 33211, 11, 40792, 2786, 13, 51446],\n",
       "   'temperature': 0.0,\n",
       "   'avg_logprob': -0.40330527080752987,\n",
       "   'compression_ratio': 1.6533333333333333,\n",
       "   'no_speech_prob': 0.10099760442972183}],\n",
       " 'language': 'pt'}"
      ]
     },
     "execution_count": 18,
     "metadata": {},
     "output_type": "execute_result"
    }
   ],
   "source": [
    "result"
   ]
  },
  {
   "cell_type": "code",
   "execution_count": 17,
   "metadata": {},
   "outputs": [
    {
     "name": "stdout",
     "output_type": "stream",
     "text": [
      "(' não pode fazer com數aktam você problema foi comigo O que eu peço pra você '\n",
      " 'não fazer? Sobre o que eu tava sentindo, assim. Você resolveu o meu problema '\n",
      " 'por mim? Eu senti que ela foi uma pessoa que queria me dar uma oportunidade '\n",
      " 'pra me mostrar que tinha. Você não tem que sentir nada que tenha a ver '\n",
      " 'comigo. Se eu não falei... Seu não! Seu não! Seu não! Eu tô falando, cara! '\n",
      " 'Respeita! Respeita! A mulher, respeita.')\n"
     ]
    }
   ],
   "source": [
    "#Whisper trascription is very bad\n",
    "pprint(result['text'])"
   ]
  },
  {
   "cell_type": "code",
   "execution_count": null,
   "metadata": {},
   "outputs": [],
   "source": []
  }
 ],
 "metadata": {
  "kernelspec": {
   "display_name": "davi",
   "language": "python",
   "name": "python3"
  },
  "language_info": {
   "codemirror_mode": {
    "name": "ipython",
    "version": 3
   },
   "file_extension": ".py",
   "mimetype": "text/x-python",
   "name": "python",
   "nbconvert_exporter": "python",
   "pygments_lexer": "ipython3",
   "version": "3.11.9"
  }
 },
 "nbformat": 4,
 "nbformat_minor": 2
}
